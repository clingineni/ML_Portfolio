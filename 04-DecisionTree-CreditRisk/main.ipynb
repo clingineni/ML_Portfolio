# Machine Learning Project

import pandas as pd
from sklearn.model_selection import train_test_split
from sklearn.metrics import accuracy_score, mean_squared_error

# Load dataset
df = pd.read_csv("data.csv")
print(df.head())

# Replace below with actual feature/target
X = df.iloc[:, :-1]
y = df.iloc[:, -1]

# Train-test split
X_train, X_test, y_train, y_test = train_test_split(X, y, test_size=0.2, random_state=42)

# Replace with model (e.g., LinearRegression, RandomForestClassifier, etc.)
from sklearn.linear_model import LinearRegression
model = LinearRegression()
model.fit(X_train, y_train)

# Predict and evaluate
y_pred = model.predict(X_test)
print("MSE:", mean_squared_error(y_test, y_pred))
